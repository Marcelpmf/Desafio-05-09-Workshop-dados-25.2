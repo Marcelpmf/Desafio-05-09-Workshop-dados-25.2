{
  "nbformat": 4,
  "nbformat_minor": 0,
  "metadata": {
    "colab": {
      "provenance": [],
      "authorship_tag": "ABX9TyMb+eJAKT5AkwsOTVP9aAu/",
      "include_colab_link": true
    },
    "kernelspec": {
      "name": "python3",
      "display_name": "Python 3"
    },
    "language_info": {
      "name": "python"
    }
  },
  "cells": [
    {
      "cell_type": "markdown",
      "metadata": {
        "id": "view-in-github",
        "colab_type": "text"
      },
      "source": [
        "<a href=\"https://colab.research.google.com/github/Marcelpmf/Workshop-dados-25.2/blob/main/Tratamento_de_Dados.ipynb\" target=\"_parent\"><img src=\"https://colab.research.google.com/assets/colab-badge.svg\" alt=\"Open In Colab\"/></a>"
      ]
    },
    {
      "cell_type": "code",
      "execution_count": 6,
      "metadata": {
        "id": "eI7TcW--36dr"
      },
      "outputs": [],
      "source": [
        "import pandas as pd\n",
        "import numpy as np\n",
        "\n",
        "\n",
        "df = pd.read_csv('dados_nao_tratados.csv')\n",
        "\n",
        "df = df.fillna(0)\n",
        "\n",
        "df['idade'] = pd.to_numeric(df['idade'], errors='coerce')\n",
        "\n",
        "df['data_inscricao'] = pd.to_datetime(df['data_inscricao'], errors='coerce')\n",
        "\n",
        "df[\"ativo\"] = (\n",
        "    df[\"ativo\"]\n",
        "    .astype(str)\n",
        "    .str.strip()\n",
        "    .str.lower()\n",
        "    .map({\n",
        "        \"sim\": True,\n",
        "        \"true\": True,\n",
        "        \"não\": False,\n",
        "        \"nao\": False,\n",
        "        \"false\": False,\n",
        "        \"e\": np.nan\n",
        "    })\n",
        ")\n",
        "\n",
        "df[\"ativo\"] = df[\"ativo\"].map({True: \"sim\", False: \"não\"})\n",
        "\n",
        "\n",
        "df.head()\n",
        "\n",
        "df.to_csv('dados_tratados.csv', index=False)"
      ]
    }
  ]
}